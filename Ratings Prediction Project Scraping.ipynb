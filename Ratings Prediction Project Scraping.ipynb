{
 "cells": [
  {
   "cell_type": "code",
   "execution_count": 1,
   "id": "c7692b96",
   "metadata": {},
   "outputs": [],
   "source": [
    "import selenium\n",
    "import pandas as pd\n",
    "from selenium import webdriver\n",
    "import time\n",
    "\n",
    "import warnings\n",
    "warnings.filterwarnings('ignore')\n",
    "\n"
   ]
  },
  {
   "cell_type": "code",
   "execution_count": null,
   "id": "f1cb7ae9",
   "metadata": {},
   "outputs": [],
   "source": []
  },
  {
   "cell_type": "code",
   "execution_count": 52,
   "id": "e488b514",
   "metadata": {},
   "outputs": [
    {
     "name": "stdout",
     "output_type": "stream",
     "text": [
      "4343 4343\n"
     ]
    }
   ],
   "source": [
    "#connect to the webdriver\n",
    "driver = webdriver.Chrome(r\"C:/Users/atoranga/Documents/chromedriver.exe\")\n",
    "time.sleep(2)\n",
    "review = []\n",
    "rating = []\n",
    "\n",
    "for i in range(1,1200):\n",
    "    driver.get('https://www.amazon.in/Canon-MG2577s-Inkjet-Colour-Printer/product-reviews/B01EJ5MM5M/ref=cm_cr_arp_d_paging_btm_'+str(i)+'?ie=UTF8&pageNumber='+str(i)+'&reviewerType=all_reviews')\n",
    "    \n",
    "    try:\n",
    "        \n",
    "        item = driver.find_elements_by_xpath('/html/body/div[1]/div[3]/div/div[1]/div/div[1]/div[5]/div[3]/div/div/div/div/div[2]/a[1]')\n",
    "        for i in item:\n",
    "            rating.append(i.get_attribute('title').replace('.0 out of 5 stars',''))\n",
    "    except:\n",
    "        rating.append('NaN')\n",
    "        \n",
    "    try:\n",
    "        item = driver.find_elements_by_xpath('/html/body/div[1]/div[3]/div/div[1]/div/div[1]/div[5]/div[3]/div/div/div/div/div[2]/a[2]/span')\n",
    "        for i in item:\n",
    "            review.append(i.text)\n",
    "        \n",
    "    except:\n",
    "        rating.append('NaN')\n",
    "        \n",
    "\n",
    "print(len(rating),len(review))"
   ]
  },
  {
   "cell_type": "code",
   "execution_count": 53,
   "id": "b868acd8",
   "metadata": {},
   "outputs": [
    {
     "name": "stdout",
     "output_type": "stream",
     "text": [
      "     Rating                                             Review\n",
      "0         1                                very bad experience\n",
      "1         1                 Printer Came Damaged Worst product\n",
      "2         3                     Only for plain paper printing.\n",
      "3         3                                        Ok printing\n",
      "4         1                          Defective piece received.\n",
      "...     ...                                                ...\n",
      "4338      1  It's not a value for money purchase as when ti...\n",
      "4339      5                   Nice product for School purposes\n",
      "4340      5  Comes With Awesome Print Quality, Best In Budg...\n",
      "4341      1                                 Worst in the world\n",
      "4342      1  Waste product please don't buy please remove i...\n",
      "\n",
      "[4343 rows x 2 columns]\n"
     ]
    }
   ],
   "source": [
    "df1 = pd.DataFrame({'Rating':rating,'Review':review})\n",
    "df1.to_csv('df1.csv',index='False')\n",
    "print(df1)"
   ]
  },
  {
   "cell_type": "code",
   "execution_count": 2,
   "id": "ddfd3986",
   "metadata": {},
   "outputs": [
    {
     "name": "stdout",
     "output_type": "stream",
     "text": [
      "399 399\n"
     ]
    }
   ],
   "source": [
    "#connect to the webdriver\n",
    "driver = webdriver.Chrome(r\"C:/Users/atoranga/Documents/chromedriver.exe\")\n",
    "time.sleep(2)\n",
    "review = []\n",
    "rating = []\n",
    "\n",
    "\n",
    "for i in range(1,1200):\n",
    "    driver.get('https://www.amazon.in/HP-14-inch-Laptop-i5-10210U-14-ck2018tu/product-reviews/B08HJXVDHN/ref=cm_cr_arp_d_paging_btm_'+str(i)+'?ie=UTF8&pageNumber='+str(i)+'&reviewerType=all_reviews')\n",
    "    \n",
    "    try:\n",
    "        \n",
    "        item = driver.find_elements_by_xpath('/html/body/div[1]/div[3]/div/div[1]/div/div[1]/div[5]/div[3]/div/div/div/div/div[2]/a[1]')\n",
    "        for i in item:\n",
    "            rating.append(i.get_attribute('title').replace('.0 out of 5 stars',''))\n",
    "    except:\n",
    "        rating.append('NaN')\n",
    "        \n",
    "    try:\n",
    "        item = driver.find_elements_by_xpath('/html/body/div[1]/div[3]/div/div[1]/div/div[1]/div[5]/div[3]/div/div/div/div/div[2]/a[2]/span')\n",
    "        for i in item:\n",
    "            review.append(i.text)\n",
    "        \n",
    "    except:\n",
    "        rating.append('NaN')\n",
    "        \n",
    "\n",
    "print(len(rating),len(review))"
   ]
  },
  {
   "cell_type": "code",
   "execution_count": 3,
   "id": "2ff538f0",
   "metadata": {},
   "outputs": [
    {
     "name": "stdout",
     "output_type": "stream",
     "text": [
      "    Rating                                             Review\n",
      "0        4  Budget laptop with decent specs for day to day...\n",
      "1        1                                      Big NO to buy\n",
      "2        5  Ignore Negative Reviews 'Cz They spread Negati...\n",
      "3        5                                    Value for money\n",
      "4        1                                        Amazon Lied\n",
      "..     ...                                                ...\n",
      "394      1  Money back as per Amazon pay ICICI credit card...\n",
      "395      5                                            Amazing\n",
      "396      5  HP laptop HP 15S-FS2535TU through Amazon 22nd ...\n",
      "397      1                                Cheap Build Quality\n",
      "398      1                                            Cheated\n",
      "\n",
      "[399 rows x 2 columns]\n"
     ]
    }
   ],
   "source": [
    "df2 = pd.DataFrame({'Rating':rating,'Review':review})\n",
    "df2.to_csv('df2.csv',index='False')\n",
    "print(df2)"
   ]
  },
  {
   "cell_type": "code",
   "execution_count": 4,
   "id": "dbf00380",
   "metadata": {},
   "outputs": [
    {
     "name": "stdout",
     "output_type": "stream",
     "text": [
      "4377 4388\n"
     ]
    }
   ],
   "source": [
    "#connect to the webdriver\n",
    "driver = webdriver.Chrome(r\"C:/Users/atoranga/Documents/chromedriver.exe\")\n",
    "time.sleep(2)\n",
    "review = []\n",
    "rating = []\n",
    "\n",
    "\n",
    "for i in range(1,1200):\n",
    "    driver.get('https://www.amazon.in/Bajaj-Torque-New-Honeycomb-Technology/product-reviews/B09R3QNGW5/ref=cm_cr_arp_d_paging_btm_'+str(i)+'?ie=UTF8&pageNumber='+str(i)+'&reviewerType=all_reviews')\n",
    "    \n",
    "    try:\n",
    "        \n",
    "        item = driver.find_elements_by_xpath('/html/body/div[1]/div[3]/div/div[1]/div/div[1]/div[5]/div[3]/div/div/div/div/div[2]/a[1]')\n",
    "        for i in item:\n",
    "            rating.append(i.get_attribute('title').replace('.0 out of 5 stars',''))\n",
    "    except:\n",
    "        rating.append('NaN')\n",
    "        \n",
    "    try:\n",
    "        item = driver.find_elements_by_xpath('/html/body/div[1]/div[3]/div/div[1]/div/div[1]/div[5]/div[3]/div/div/div/div/div[2]/a[2]/span')\n",
    "        for i in item:\n",
    "            review.append(i.text)\n",
    "        \n",
    "    except:\n",
    "        rating.append('NaN')\n",
    "        \n",
    "\n",
    "print(len(rating),len(review))"
   ]
  },
  {
   "cell_type": "code",
   "execution_count": 18,
   "id": "90b5f1aa",
   "metadata": {},
   "outputs": [
    {
     "name": "stdout",
     "output_type": "stream",
     "text": [
      "     Rating                                             Review\n",
      "0         4  Decent cooler if you know how to use it effect...\n",
      "1         4                                         Four Stars\n",
      "2         4                      Good Product ,Value for money\n",
      "3         2                                      Quality check\n",
      "4         1                             cooler stopped working\n",
      "...     ...                                                ...\n",
      "4372      3                                  Too much of smell\n",
      "4373      1  This is Worst product by bajaj.. This is Never...\n",
      "4374      5                          The best for small rooms.\n",
      "4375      5                                        Best cooler\n",
      "4376      1                                       Poor product\n",
      "\n",
      "[4377 rows x 2 columns]\n"
     ]
    }
   ],
   "source": [
    "df3 = pd.DataFrame({'Rating':rating,'Review':review})\n",
    "df3.to_csv('df3.csv',index='False')\n",
    "print(df3)"
   ]
  },
  {
   "cell_type": "code",
   "execution_count": null,
   "id": "54e30fe4",
   "metadata": {},
   "outputs": [],
   "source": []
  },
  {
   "cell_type": "code",
   "execution_count": 19,
   "id": "1a2cbe46",
   "metadata": {},
   "outputs": [
    {
     "name": "stdout",
     "output_type": "stream",
     "text": [
      "2010 2014\n"
     ]
    }
   ],
   "source": [
    "#connect to the webdriver\n",
    "driver = webdriver.Chrome(r\"C:/Users/atoranga/Documents/chromedriver.exe\")\n",
    "time.sleep(2)\n",
    "review = []\n",
    "rating = []\n",
    "\n",
    "\n",
    "for i in range(1,1200):\n",
    "    driver.get('https://www.amazon.in/Samsung-Fully-Automatic-WA65A4002VS-TL-Technology/product-reviews/B08GY3PZQF/ref=cm_cr_arp_d_paging_btm_'+str(i)+'?ie=UTF8&pageNumber='+str(i)+'&reviewerType=all_reviews')\n",
    "    \n",
    "    try:\n",
    "        \n",
    "        item = driver.find_elements_by_xpath('/html/body/div[1]/div[3]/div/div[1]/div/div[1]/div[5]/div[3]/div/div/div/div/div[2]/a[1]')\n",
    "        for i in item:\n",
    "            rating.append(i.get_attribute('title').replace('.0 out of 5 stars',''))\n",
    "    except:\n",
    "        rating.append('NaN')\n",
    "        \n",
    "    try:\n",
    "        item = driver.find_elements_by_xpath('/html/body/div[1]/div[3]/div/div[1]/div/div[1]/div[5]/div[3]/div/div/div/div/div[2]/a[2]/span')\n",
    "        for i in item:\n",
    "            review.append(i.text)\n",
    "        \n",
    "    except:\n",
    "        rating.append('NaN')\n",
    "        \n",
    "\n",
    "print(len(rating),len(review))"
   ]
  },
  {
   "cell_type": "code",
   "execution_count": 26,
   "id": "4350afcd",
   "metadata": {},
   "outputs": [
    {
     "name": "stdout",
     "output_type": "stream",
     "text": [
      "     Rating                                             Review\n",
      "0         1   Beware of Motor Warranty offered for the product\n",
      "1         5                                 Makes life easier.\n",
      "2         1  Horrible Noise while washing and spinning. Mig...\n",
      "3         5             EVERYTHING YOU NEED TO KNOW BEFORE BUY\n",
      "4         2      Producing enormous sound like a \"MACHINE GUN\"\n",
      "...     ...                                                ...\n",
      "2005      5      Bought 4 of this in 15 years, Used and Gifted\n",
      "2006      5                                       Good product\n",
      "2007      5                         Less vibration, less noice\n",
      "2008      5                          Very useful little family\n",
      "2009      4                                       Good product\n",
      "\n",
      "[2010 rows x 2 columns]\n"
     ]
    }
   ],
   "source": [
    "df4 = pd.DataFrame({'Rating':rating,'Review':review})\n",
    "df4.to_csv('df4.csv',index='False')\n",
    "print(df4)"
   ]
  },
  {
   "cell_type": "code",
   "execution_count": null,
   "id": "6d1a0216",
   "metadata": {},
   "outputs": [],
   "source": []
  },
  {
   "cell_type": "code",
   "execution_count": null,
   "id": "215167bb",
   "metadata": {},
   "outputs": [],
   "source": []
  },
  {
   "cell_type": "code",
   "execution_count": null,
   "id": "8b0cb3b1",
   "metadata": {},
   "outputs": [],
   "source": [
    "'+str(i)+'"
   ]
  },
  {
   "cell_type": "code",
   "execution_count": 27,
   "id": "4919d8f9",
   "metadata": {},
   "outputs": [
    {
     "name": "stdout",
     "output_type": "stream",
     "text": [
      "5000 5018\n"
     ]
    }
   ],
   "source": [
    "#connect to the webdriver\n",
    "driver = webdriver.Chrome(r\"C:/Users/atoranga/Documents/chromedriver.exe\")\n",
    "time.sleep(2)\n",
    "review = []\n",
    "rating = []\n",
    "\n",
    "for i in range(1,3500):\n",
    "    driver.get('https://www.amazon.in/GOQii-temperature-pressure-personal-Coaching/product-reviews/B0877MB5HN/ref=cm_cr_arp_d_paging_btm_'+str(i)+'?ie=UTF8&pageNumber='+str(i)+'&reviewerType=all_reviews')\n",
    "    \n",
    "    try:\n",
    "        \n",
    "        item = driver.find_elements_by_xpath('/html/body/div[1]/div[3]/div/div[1]/div/div[1]/div[5]/div[3]/div/div/div/div/div[2]/a[1]')\n",
    "        for i in item:\n",
    "            rating.append(i.get_attribute('title').replace('.0 out of 5 stars',''))\n",
    "    except:\n",
    "        rating.append('NaN')\n",
    "        \n",
    "    try:\n",
    "        item = driver.find_elements_by_xpath('/html/body/div[1]/div[3]/div/div[1]/div/div[1]/div[5]/div[3]/div/div/div/div/div[2]/a[2]/span')\n",
    "        for i in item:\n",
    "            review.append(i.text)\n",
    "        \n",
    "    except:\n",
    "        rating.append('NaN')\n",
    "        \n",
    "\n",
    "print(len(rating),len(review))"
   ]
  },
  {
   "cell_type": "code",
   "execution_count": 34,
   "id": "91500315",
   "metadata": {},
   "outputs": [
    {
     "name": "stdout",
     "output_type": "stream",
     "text": [
      "     Rating                                             Review\n",
      "0         3  Good Product... Though Software Improvements a...\n",
      "1         1                         In two words :- just avoid\n",
      "2         1                          BP measurement is wrong .\n",
      "3         5               GOQii Smart Vital - best smart watch\n",
      "4         1                     Don't buy total waste of money\n",
      "...     ...                                                ...\n",
      "4995      1  . Feeling cheated. Watc No support from compan...\n",
      "4996      2                         Un happy with this product\n",
      "4997      4                                     Indian Product\n",
      "4998      5                                              बढ़िया\n",
      "4999      1                                          Don't buy\n",
      "\n",
      "[5000 rows x 2 columns]\n"
     ]
    }
   ],
   "source": [
    "df5 = pd.DataFrame({'Rating':rating,'Review':review})\n",
    "df5.to_csv('df5.csv',index='False')\n",
    "print(df5)"
   ]
  },
  {
   "cell_type": "code",
   "execution_count": null,
   "id": "92d5f540",
   "metadata": {},
   "outputs": [],
   "source": []
  },
  {
   "cell_type": "code",
   "execution_count": 2,
   "id": "707f6e7b",
   "metadata": {},
   "outputs": [
    {
     "name": "stdout",
     "output_type": "stream",
     "text": [
      "5000 5015\n"
     ]
    }
   ],
   "source": [
    "#connect to the webdriver\n",
    "driver = webdriver.Chrome(r\"C:/Users/atoranga/Documents/chromedriver.exe\")\n",
    "time.sleep(2)\n",
    "review = []\n",
    "rating = []\n",
    "\n",
    "for i in range(1,1200):\n",
    "    driver.get('https://www.amazon.in/Noise-ColorFit-Smartwatch-Monitoring-Waterproof/product-reviews/B097R25DP7/ref=cm_cr_arp_d_paging_btm_'+str(i)+'?ie=UTF8&pageNumber='+str(i)+'&reviewerType=all_reviews')\n",
    "    \n",
    "    try:\n",
    "        \n",
    "        item = driver.find_elements_by_xpath('/html/body/div[1]/div[3]/div/div[1]/div/div[1]/div[5]/div[3]/div/div/div/div/div[2]/a[1]')\n",
    "        for i in item:\n",
    "            rating.append(i.get_attribute('title').replace('.0 out of 5 stars',''))\n",
    "    except:\n",
    "        rating.append('NaN')\n",
    "        \n",
    "    try:\n",
    "        item = driver.find_elements_by_xpath('/html/body/div[1]/div[3]/div/div[1]/div/div[1]/div[5]/div[3]/div/div/div/div/div[2]/a[2]/span')\n",
    "        for i in item:\n",
    "            review.append(i.text)\n",
    "        \n",
    "    except:\n",
    "        rating.append('NaN')\n",
    "        \n",
    "\n",
    "print(len(rating),len(review))"
   ]
  },
  {
   "cell_type": "code",
   "execution_count": 20,
   "id": "9db43bdc",
   "metadata": {},
   "outputs": [
    {
     "name": "stdout",
     "output_type": "stream",
     "text": [
      "     Rating                                             Review\n",
      "0         1                                    No notification\n",
      "1         5  I'm very happy for this product. I get maximum...\n",
      "2         5                                 Why i bought this?\n",
      "3         5                                    Amazing product\n",
      "4         1                                            Quality\n",
      "...     ...                                                ...\n",
      "4995      5      Awewome design , perfect for fitness tracking\n",
      "4996      4   SPO2 and Heart Rate measurements are approximate\n",
      "4997      4                                       Good product\n",
      "4998      5                                  Noise wrist watch\n",
      "4999      4              Call receiving option should be their\n",
      "\n",
      "[5000 rows x 2 columns]\n"
     ]
    }
   ],
   "source": [
    "df6 = pd.DataFrame({'Rating':rating,'Review':review})\n",
    "df6.to_csv('df6.csv',index='False')\n",
    "print(df6)"
   ]
  },
  {
   "cell_type": "code",
   "execution_count": null,
   "id": "e115d841",
   "metadata": {},
   "outputs": [],
   "source": []
  },
  {
   "cell_type": "code",
   "execution_count": 22,
   "id": "63f2e3b9",
   "metadata": {},
   "outputs": [
    {
     "name": "stdout",
     "output_type": "stream",
     "text": [
      "2263 2287\n"
     ]
    }
   ],
   "source": [
    "#connect to the webdriver\n",
    "driver = webdriver.Chrome(r\"C:/Users/atoranga/Documents/chromedriver.exe\")\n",
    "time.sleep(2)\n",
    "review = []\n",
    "rating = []\n",
    "\n",
    "for i in range(1,1200):\n",
    "    driver.get('https://www.amazon.in/PHILIPS-BT1232-15-Skin-friendly-Trimmer/product-reviews/B096RN9V8V/ref=cm_cr_arp_d_paging_btm_'+str(i)+'?ie=UTF8&pageNumber='+str(i)+'&reviewerType=all_reviews')\n",
    "    \n",
    "    try:\n",
    "        \n",
    "        item = driver.find_elements_by_xpath('/html/body/div[1]/div[3]/div/div[1]/div/div[1]/div[5]/div[3]/div/div/div/div/div[2]/a[1]')\n",
    "        for i in item:\n",
    "            rating.append(i.get_attribute('title').replace('.0 out of 5 stars',''))\n",
    "    except:\n",
    "        rating.append('NaN')\n",
    "        \n",
    "    try:\n",
    "        item = driver.find_elements_by_xpath('/html/body/div[1]/div[3]/div/div[1]/div/div[1]/div[5]/div[3]/div/div/div/div/div[2]/a[2]/span')\n",
    "        for i in item:\n",
    "            review.append(i.text)\n",
    "        \n",
    "    except:\n",
    "        rating.append('NaN')\n",
    "        \n",
    "\n",
    "print(len(rating),len(review))"
   ]
  },
  {
   "cell_type": "code",
   "execution_count": 31,
   "id": "28ebc0ba",
   "metadata": {},
   "outputs": [
    {
     "name": "stdout",
     "output_type": "stream",
     "text": [
      "     Rating                                             Review\n",
      "0         1            Unworthy spending money on this product\n",
      "1         5                       Nice Trimmer for Regular Use\n",
      "2         5                       Is this includes usb charher\n",
      "3         1  Pros and cons. Just an average trimmer (drill ...\n",
      "4         1  Used Trimmer with Hair found in the Blade and ...\n",
      "...     ...                                                ...\n",
      "2258      5                                   Must have device\n",
      "2259      4                                       Good product\n",
      "2260      4                                               Good\n",
      "2261      1                                     Battery Backup\n",
      "2262      5                                        nyc product\n",
      "\n",
      "[2263 rows x 2 columns]\n"
     ]
    }
   ],
   "source": [
    "df7 = pd.DataFrame({'Rating':rating,'Review':review})\n",
    "df7.to_csv('df7.csv',index='False')\n",
    "print(df7)"
   ]
  },
  {
   "cell_type": "code",
   "execution_count": 6,
   "id": "6cae0449",
   "metadata": {},
   "outputs": [
    {
     "data": {
      "text/html": [
       "<div>\n",
       "<style scoped>\n",
       "    .dataframe tbody tr th:only-of-type {\n",
       "        vertical-align: middle;\n",
       "    }\n",
       "\n",
       "    .dataframe tbody tr th {\n",
       "        vertical-align: top;\n",
       "    }\n",
       "\n",
       "    .dataframe thead th {\n",
       "        text-align: right;\n",
       "    }\n",
       "</style>\n",
       "<table border=\"1\" class=\"dataframe\">\n",
       "  <thead>\n",
       "    <tr style=\"text-align: right;\">\n",
       "      <th></th>\n",
       "      <th>Rating</th>\n",
       "      <th>Review</th>\n",
       "    </tr>\n",
       "  </thead>\n",
       "  <tbody>\n",
       "    <tr>\n",
       "      <th>0</th>\n",
       "      <td>1</td>\n",
       "      <td>very bad experience</td>\n",
       "    </tr>\n",
       "    <tr>\n",
       "      <th>1</th>\n",
       "      <td>1</td>\n",
       "      <td>Printer Came Damaged Worst product</td>\n",
       "    </tr>\n",
       "    <tr>\n",
       "      <th>2</th>\n",
       "      <td>3</td>\n",
       "      <td>Only for plain paper printing.</td>\n",
       "    </tr>\n",
       "    <tr>\n",
       "      <th>3</th>\n",
       "      <td>3</td>\n",
       "      <td>Ok printing</td>\n",
       "    </tr>\n",
       "    <tr>\n",
       "      <th>4</th>\n",
       "      <td>1</td>\n",
       "      <td>Defective piece received.</td>\n",
       "    </tr>\n",
       "    <tr>\n",
       "      <th>...</th>\n",
       "      <td>...</td>\n",
       "      <td>...</td>\n",
       "    </tr>\n",
       "    <tr>\n",
       "      <th>23387</th>\n",
       "      <td>5</td>\n",
       "      <td>Must have device</td>\n",
       "    </tr>\n",
       "    <tr>\n",
       "      <th>23388</th>\n",
       "      <td>4</td>\n",
       "      <td>Good product</td>\n",
       "    </tr>\n",
       "    <tr>\n",
       "      <th>23389</th>\n",
       "      <td>4</td>\n",
       "      <td>Good</td>\n",
       "    </tr>\n",
       "    <tr>\n",
       "      <th>23390</th>\n",
       "      <td>1</td>\n",
       "      <td>Battery Backup</td>\n",
       "    </tr>\n",
       "    <tr>\n",
       "      <th>23391</th>\n",
       "      <td>5</td>\n",
       "      <td>nyc product</td>\n",
       "    </tr>\n",
       "  </tbody>\n",
       "</table>\n",
       "<p>23392 rows × 2 columns</p>\n",
       "</div>"
      ],
      "text/plain": [
       "       Rating                              Review\n",
       "0           1                 very bad experience\n",
       "1           1  Printer Came Damaged Worst product\n",
       "2           3      Only for plain paper printing.\n",
       "3           3                         Ok printing\n",
       "4           1           Defective piece received.\n",
       "...       ...                                 ...\n",
       "23387       5                    Must have device\n",
       "23388       4                        Good product\n",
       "23389       4                                Good\n",
       "23390       1                      Battery Backup\n",
       "23391       5                         nyc product\n",
       "\n",
       "[23392 rows x 2 columns]"
      ]
     },
     "execution_count": 6,
     "metadata": {},
     "output_type": "execute_result"
    }
   ],
   "source": [
    "rating_data  = pd.concat([df1,df2,df3,df4,df5,df6,df7],ignore_index=True)\n",
    "rating_data.drop('Unnamed: 0',axis=1,inplace=True)\n",
    "rating_data"
   ]
  },
  {
   "cell_type": "code",
   "execution_count": 7,
   "id": "3ffd9ff1",
   "metadata": {},
   "outputs": [],
   "source": [
    "rating_data.to_csv('rating_data')"
   ]
  },
  {
   "cell_type": "code",
   "execution_count": 2,
   "id": "15171997",
   "metadata": {},
   "outputs": [],
   "source": []
  },
  {
   "cell_type": "code",
   "execution_count": 5,
   "id": "10165a64",
   "metadata": {},
   "outputs": [],
   "source": []
  },
  {
   "cell_type": "code",
   "execution_count": null,
   "id": "0eac1d75",
   "metadata": {},
   "outputs": [],
   "source": []
  }
 ],
 "metadata": {
  "kernelspec": {
   "display_name": "Python 3",
   "language": "python",
   "name": "python3"
  },
  "language_info": {
   "codemirror_mode": {
    "name": "ipython",
    "version": 3
   },
   "file_extension": ".py",
   "mimetype": "text/x-python",
   "name": "python",
   "nbconvert_exporter": "python",
   "pygments_lexer": "ipython3",
   "version": "3.8.8"
  }
 },
 "nbformat": 4,
 "nbformat_minor": 5
}
